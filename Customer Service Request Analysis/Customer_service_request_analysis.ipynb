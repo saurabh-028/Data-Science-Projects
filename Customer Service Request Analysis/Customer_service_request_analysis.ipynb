{
 "cells": [
  {
   "cell_type": "markdown",
   "id": "d6641bf5",
   "metadata": {},
   "source": [
    "# Customer Service Request Analysis"
   ]
  },
  {
   "cell_type": "markdown",
   "id": "8e5adf84",
   "metadata": {},
   "source": [
    "Background of Problem Statement :\n",
    "\n",
    "NYC 311's mission is to provide the public with quick and easy access to all New York City government services and information while offering the best customer service. Each day, NYC311 receives thousands of requests related to several hundred types of non-emergency services, including noise complaints, plumbing issues, and illegally parked cars. These requests are received by NYC311 and forwarded to the relevant agencies such as the police, buildings, or transportation. The agency responds to the request, addresses it, and then closes it.\n",
    "\n",
    "Problem Objective :\n",
    "\n",
    "Perform a service request data analysis of New York City 311 calls. You will focus on the data wrangling techniques to understand the pattern in the data and also visualize the major complaint types.\n",
    "Domain: Customer Service\n",
    "\n",
    "Analysis Tasks to be performed:\n",
    "\n",
    "(Perform a service request data analysis of New York City 311 calls) \n",
    "\n",
    "Import a 311 NYC service request.\n",
    "\n",
    "Read or convert the columns ‘Created Date’ and Closed Date’ to datetime datatype and create a new column ‘Request_Closing_Time’ as the time elapsed between request creation and request closing. (Hint: Explore the package/module datetime)\n",
    "\n",
    "Provide major insights/patterns that you can offer in a visual format (graphs or tables); at least 4 major conclusions that you can come up with after generic data mining.\n",
    "\n",
    "Order the complaint types based on the average ‘Request_Closing_Time’, grouping them for different locations.\n",
    "Perform a statistical test for the following:\n",
    "\n",
    "Please note: For the below statements you need to state the Null and Alternate and then provide a statistical test to accept or reject the Null Hypothesis along with the corresponding ‘p-value’.\n",
    "\n",
    "Whether the average response time across complaint types is similar or not (overall)\n",
    "\n",
    "Are the type of complaint or service requested and location related?"
   ]
  },
  {
   "cell_type": "code",
   "execution_count": 32,
   "id": "4dde00fc",
   "metadata": {},
   "outputs": [],
   "source": [
    "# Importing the libraries\n",
    "\n",
    "import pandas as pd\n",
    "import seaborn as sns\n",
    "import matplotlib.pyplot as plt"
   ]
  },
  {
   "cell_type": "markdown",
   "id": "42d52572",
   "metadata": {},
   "source": [
    "1. Import a 311 NYC service request."
   ]
  },
  {
   "cell_type": "code",
   "execution_count": 33,
   "id": "377aa53f",
   "metadata": {
    "scrolled": true
   },
   "outputs": [
    {
     "name": "stderr",
     "output_type": "stream",
     "text": [
      "H:\\New folder\\lib\\site-packages\\IPython\\core\\interactiveshell.py:3165: DtypeWarning: Columns (48,49) have mixed types.Specify dtype option on import or set low_memory=False.\n",
      "  has_raised = await self.run_ast_nodes(code_ast.body, cell_name,\n"
     ]
    },
    {
     "data": {
      "text/html": [
       "<div>\n",
       "<style scoped>\n",
       "    .dataframe tbody tr th:only-of-type {\n",
       "        vertical-align: middle;\n",
       "    }\n",
       "\n",
       "    .dataframe tbody tr th {\n",
       "        vertical-align: top;\n",
       "    }\n",
       "\n",
       "    .dataframe thead th {\n",
       "        text-align: right;\n",
       "    }\n",
       "</style>\n",
       "<table border=\"1\" class=\"dataframe\">\n",
       "  <thead>\n",
       "    <tr style=\"text-align: right;\">\n",
       "      <th></th>\n",
       "      <th>Unique Key</th>\n",
       "      <th>Created Date</th>\n",
       "      <th>Closed Date</th>\n",
       "      <th>Agency</th>\n",
       "      <th>Agency Name</th>\n",
       "      <th>Complaint Type</th>\n",
       "      <th>Descriptor</th>\n",
       "      <th>Location Type</th>\n",
       "      <th>Incident Zip</th>\n",
       "      <th>Incident Address</th>\n",
       "      <th>...</th>\n",
       "      <th>Bridge Highway Name</th>\n",
       "      <th>Bridge Highway Direction</th>\n",
       "      <th>Road Ramp</th>\n",
       "      <th>Bridge Highway Segment</th>\n",
       "      <th>Garage Lot Name</th>\n",
       "      <th>Ferry Direction</th>\n",
       "      <th>Ferry Terminal Name</th>\n",
       "      <th>Latitude</th>\n",
       "      <th>Longitude</th>\n",
       "      <th>Location</th>\n",
       "    </tr>\n",
       "  </thead>\n",
       "  <tbody>\n",
       "    <tr>\n",
       "      <th>0</th>\n",
       "      <td>32310363</td>\n",
       "      <td>12/31/2015 11:59:45 PM</td>\n",
       "      <td>01-01-16 0:55</td>\n",
       "      <td>NYPD</td>\n",
       "      <td>New York City Police Department</td>\n",
       "      <td>Noise - Street/Sidewalk</td>\n",
       "      <td>Loud Music/Party</td>\n",
       "      <td>Street/Sidewalk</td>\n",
       "      <td>10034.0</td>\n",
       "      <td>71 VERMILYEA AVENUE</td>\n",
       "      <td>...</td>\n",
       "      <td>NaN</td>\n",
       "      <td>NaN</td>\n",
       "      <td>NaN</td>\n",
       "      <td>NaN</td>\n",
       "      <td>NaN</td>\n",
       "      <td>NaN</td>\n",
       "      <td>NaN</td>\n",
       "      <td>40.865682</td>\n",
       "      <td>-73.923501</td>\n",
       "      <td>(40.86568153633767, -73.92350095571744)</td>\n",
       "    </tr>\n",
       "    <tr>\n",
       "      <th>1</th>\n",
       "      <td>32309934</td>\n",
       "      <td>12/31/2015 11:59:44 PM</td>\n",
       "      <td>01-01-16 1:26</td>\n",
       "      <td>NYPD</td>\n",
       "      <td>New York City Police Department</td>\n",
       "      <td>Blocked Driveway</td>\n",
       "      <td>No Access</td>\n",
       "      <td>Street/Sidewalk</td>\n",
       "      <td>11105.0</td>\n",
       "      <td>27-07 23 AVENUE</td>\n",
       "      <td>...</td>\n",
       "      <td>NaN</td>\n",
       "      <td>NaN</td>\n",
       "      <td>NaN</td>\n",
       "      <td>NaN</td>\n",
       "      <td>NaN</td>\n",
       "      <td>NaN</td>\n",
       "      <td>NaN</td>\n",
       "      <td>40.775945</td>\n",
       "      <td>-73.915094</td>\n",
       "      <td>(40.775945312321085, -73.91509393898605)</td>\n",
       "    </tr>\n",
       "    <tr>\n",
       "      <th>2</th>\n",
       "      <td>32309159</td>\n",
       "      <td>12/31/2015 11:59:29 PM</td>\n",
       "      <td>01-01-16 4:51</td>\n",
       "      <td>NYPD</td>\n",
       "      <td>New York City Police Department</td>\n",
       "      <td>Blocked Driveway</td>\n",
       "      <td>No Access</td>\n",
       "      <td>Street/Sidewalk</td>\n",
       "      <td>10458.0</td>\n",
       "      <td>2897 VALENTINE AVENUE</td>\n",
       "      <td>...</td>\n",
       "      <td>NaN</td>\n",
       "      <td>NaN</td>\n",
       "      <td>NaN</td>\n",
       "      <td>NaN</td>\n",
       "      <td>NaN</td>\n",
       "      <td>NaN</td>\n",
       "      <td>NaN</td>\n",
       "      <td>40.870325</td>\n",
       "      <td>-73.888525</td>\n",
       "      <td>(40.870324522111424, -73.88852464418646)</td>\n",
       "    </tr>\n",
       "  </tbody>\n",
       "</table>\n",
       "<p>3 rows × 53 columns</p>\n",
       "</div>"
      ],
      "text/plain": [
       "   Unique Key            Created Date    Closed Date Agency  \\\n",
       "0    32310363  12/31/2015 11:59:45 PM  01-01-16 0:55   NYPD   \n",
       "1    32309934  12/31/2015 11:59:44 PM  01-01-16 1:26   NYPD   \n",
       "2    32309159  12/31/2015 11:59:29 PM  01-01-16 4:51   NYPD   \n",
       "\n",
       "                       Agency Name           Complaint Type        Descriptor  \\\n",
       "0  New York City Police Department  Noise - Street/Sidewalk  Loud Music/Party   \n",
       "1  New York City Police Department         Blocked Driveway         No Access   \n",
       "2  New York City Police Department         Blocked Driveway         No Access   \n",
       "\n",
       "     Location Type  Incident Zip       Incident Address  ...  \\\n",
       "0  Street/Sidewalk       10034.0    71 VERMILYEA AVENUE  ...   \n",
       "1  Street/Sidewalk       11105.0        27-07 23 AVENUE  ...   \n",
       "2  Street/Sidewalk       10458.0  2897 VALENTINE AVENUE  ...   \n",
       "\n",
       "  Bridge Highway Name Bridge Highway Direction Road Ramp  \\\n",
       "0                 NaN                      NaN       NaN   \n",
       "1                 NaN                      NaN       NaN   \n",
       "2                 NaN                      NaN       NaN   \n",
       "\n",
       "  Bridge Highway Segment Garage Lot Name Ferry Direction Ferry Terminal Name  \\\n",
       "0                    NaN             NaN             NaN                 NaN   \n",
       "1                    NaN             NaN             NaN                 NaN   \n",
       "2                    NaN             NaN             NaN                 NaN   \n",
       "\n",
       "    Latitude  Longitude                                  Location  \n",
       "0  40.865682 -73.923501   (40.86568153633767, -73.92350095571744)  \n",
       "1  40.775945 -73.915094  (40.775945312321085, -73.91509393898605)  \n",
       "2  40.870325 -73.888525  (40.870324522111424, -73.88852464418646)  \n",
       "\n",
       "[3 rows x 53 columns]"
      ]
     },
     "execution_count": 33,
     "metadata": {},
     "output_type": "execute_result"
    }
   ],
   "source": [
    "data = pd.read_csv(\"311_Service_Requests_from_2010_to_Present.csv\")\n",
    "data.head(3)"
   ]
  },
  {
   "cell_type": "markdown",
   "id": "92af6c5a",
   "metadata": {},
   "source": [
    "2. Read or convert the columns ‘Created Date’ and Closed Date’ to datetime datatype and create a new column ‘Request_Closing_Time’ as the time elapsed between request creation and request closing"
   ]
  },
  {
   "cell_type": "code",
   "execution_count": 34,
   "id": "a9b9f712",
   "metadata": {},
   "outputs": [],
   "source": [
    "data[\"Created Date\"] = pd.to_datetime(data[\"Created Date\"])"
   ]
  },
  {
   "cell_type": "code",
   "execution_count": 35,
   "id": "a1835945",
   "metadata": {},
   "outputs": [],
   "source": [
    "data[\"Closed Date\"] = pd.to_datetime(data[\"Closed Date\"])"
   ]
  },
  {
   "cell_type": "code",
   "execution_count": 36,
   "id": "00672faf",
   "metadata": {},
   "outputs": [],
   "source": [
    "data[\"Request_Closing_Time\"] = data[\"Created Date\"] - data[\"Closed Date\"]"
   ]
  },
  {
   "cell_type": "code",
   "execution_count": 37,
   "id": "9342951b",
   "metadata": {
    "scrolled": false
   },
   "outputs": [
    {
     "data": {
      "text/html": [
       "<div>\n",
       "<style scoped>\n",
       "    .dataframe tbody tr th:only-of-type {\n",
       "        vertical-align: middle;\n",
       "    }\n",
       "\n",
       "    .dataframe tbody tr th {\n",
       "        vertical-align: top;\n",
       "    }\n",
       "\n",
       "    .dataframe thead th {\n",
       "        text-align: right;\n",
       "    }\n",
       "</style>\n",
       "<table border=\"1\" class=\"dataframe\">\n",
       "  <thead>\n",
       "    <tr style=\"text-align: right;\">\n",
       "      <th></th>\n",
       "      <th>Created Date</th>\n",
       "      <th>Closed Date</th>\n",
       "      <th>Request_Closing_Time</th>\n",
       "    </tr>\n",
       "  </thead>\n",
       "  <tbody>\n",
       "    <tr>\n",
       "      <th>0</th>\n",
       "      <td>2015-12-31 23:59:45</td>\n",
       "      <td>2016-01-01 00:55:00</td>\n",
       "      <td>-1 days +23:04:45</td>\n",
       "    </tr>\n",
       "    <tr>\n",
       "      <th>1</th>\n",
       "      <td>2015-12-31 23:59:44</td>\n",
       "      <td>2016-01-01 01:26:00</td>\n",
       "      <td>-1 days +22:33:44</td>\n",
       "    </tr>\n",
       "    <tr>\n",
       "      <th>2</th>\n",
       "      <td>2015-12-31 23:59:29</td>\n",
       "      <td>2016-01-01 04:51:00</td>\n",
       "      <td>-1 days +19:08:29</td>\n",
       "    </tr>\n",
       "    <tr>\n",
       "      <th>3</th>\n",
       "      <td>2015-12-31 23:57:46</td>\n",
       "      <td>2016-01-01 07:43:00</td>\n",
       "      <td>-1 days +16:14:46</td>\n",
       "    </tr>\n",
       "    <tr>\n",
       "      <th>4</th>\n",
       "      <td>2015-12-31 23:56:58</td>\n",
       "      <td>2016-01-01 03:24:00</td>\n",
       "      <td>-1 days +20:32:58</td>\n",
       "    </tr>\n",
       "  </tbody>\n",
       "</table>\n",
       "</div>"
      ],
      "text/plain": [
       "         Created Date         Closed Date Request_Closing_Time\n",
       "0 2015-12-31 23:59:45 2016-01-01 00:55:00    -1 days +23:04:45\n",
       "1 2015-12-31 23:59:44 2016-01-01 01:26:00    -1 days +22:33:44\n",
       "2 2015-12-31 23:59:29 2016-01-01 04:51:00    -1 days +19:08:29\n",
       "3 2015-12-31 23:57:46 2016-01-01 07:43:00    -1 days +16:14:46\n",
       "4 2015-12-31 23:56:58 2016-01-01 03:24:00    -1 days +20:32:58"
      ]
     },
     "execution_count": 37,
     "metadata": {},
     "output_type": "execute_result"
    }
   ],
   "source": [
    "data[[\"Created Date\",\"Closed Date\",\"Request_Closing_Time\"]].head()"
   ]
  },
  {
   "cell_type": "markdown",
   "id": "8312b5ff",
   "metadata": {},
   "source": [
    "3. Provide major insights/patterns that you can offer in a visual format (graphs or tables); at least 4 major conclusions that you can come up with after generic data mining."
   ]
  },
  {
   "cell_type": "code",
   "execution_count": 38,
   "id": "8a860148",
   "metadata": {},
   "outputs": [
    {
     "data": {
      "text/html": [
       "<div>\n",
       "<style scoped>\n",
       "    .dataframe tbody tr th:only-of-type {\n",
       "        vertical-align: middle;\n",
       "    }\n",
       "\n",
       "    .dataframe tbody tr th {\n",
       "        vertical-align: top;\n",
       "    }\n",
       "\n",
       "    .dataframe thead th {\n",
       "        text-align: right;\n",
       "    }\n",
       "</style>\n",
       "<table border=\"1\" class=\"dataframe\">\n",
       "  <thead>\n",
       "    <tr style=\"text-align: right;\">\n",
       "      <th></th>\n",
       "      <th>0</th>\n",
       "    </tr>\n",
       "  </thead>\n",
       "  <tbody>\n",
       "    <tr>\n",
       "      <th>Unique Key</th>\n",
       "      <td>0</td>\n",
       "    </tr>\n",
       "    <tr>\n",
       "      <th>Created Date</th>\n",
       "      <td>0</td>\n",
       "    </tr>\n",
       "    <tr>\n",
       "      <th>Closed Date</th>\n",
       "      <td>2164</td>\n",
       "    </tr>\n",
       "    <tr>\n",
       "      <th>Agency</th>\n",
       "      <td>0</td>\n",
       "    </tr>\n",
       "    <tr>\n",
       "      <th>Agency Name</th>\n",
       "      <td>0</td>\n",
       "    </tr>\n",
       "    <tr>\n",
       "      <th>Complaint Type</th>\n",
       "      <td>0</td>\n",
       "    </tr>\n",
       "    <tr>\n",
       "      <th>Descriptor</th>\n",
       "      <td>5914</td>\n",
       "    </tr>\n",
       "    <tr>\n",
       "      <th>Location Type</th>\n",
       "      <td>131</td>\n",
       "    </tr>\n",
       "    <tr>\n",
       "      <th>Incident Zip</th>\n",
       "      <td>2615</td>\n",
       "    </tr>\n",
       "    <tr>\n",
       "      <th>Incident Address</th>\n",
       "      <td>44410</td>\n",
       "    </tr>\n",
       "    <tr>\n",
       "      <th>Street Name</th>\n",
       "      <td>44410</td>\n",
       "    </tr>\n",
       "    <tr>\n",
       "      <th>Cross Street 1</th>\n",
       "      <td>49279</td>\n",
       "    </tr>\n",
       "    <tr>\n",
       "      <th>Cross Street 2</th>\n",
       "      <td>49779</td>\n",
       "    </tr>\n",
       "    <tr>\n",
       "      <th>Intersection Street 1</th>\n",
       "      <td>256840</td>\n",
       "    </tr>\n",
       "    <tr>\n",
       "      <th>Intersection Street 2</th>\n",
       "      <td>257336</td>\n",
       "    </tr>\n",
       "    <tr>\n",
       "      <th>Address Type</th>\n",
       "      <td>2815</td>\n",
       "    </tr>\n",
       "    <tr>\n",
       "      <th>City</th>\n",
       "      <td>2614</td>\n",
       "    </tr>\n",
       "    <tr>\n",
       "      <th>Landmark</th>\n",
       "      <td>300349</td>\n",
       "    </tr>\n",
       "    <tr>\n",
       "      <th>Facility Type</th>\n",
       "      <td>2171</td>\n",
       "    </tr>\n",
       "    <tr>\n",
       "      <th>Status</th>\n",
       "      <td>0</td>\n",
       "    </tr>\n",
       "    <tr>\n",
       "      <th>Due Date</th>\n",
       "      <td>3</td>\n",
       "    </tr>\n",
       "    <tr>\n",
       "      <th>Resolution Description</th>\n",
       "      <td>0</td>\n",
       "    </tr>\n",
       "    <tr>\n",
       "      <th>Resolution Action Updated Date</th>\n",
       "      <td>2187</td>\n",
       "    </tr>\n",
       "    <tr>\n",
       "      <th>Community Board</th>\n",
       "      <td>0</td>\n",
       "    </tr>\n",
       "    <tr>\n",
       "      <th>Borough</th>\n",
       "      <td>0</td>\n",
       "    </tr>\n",
       "    <tr>\n",
       "      <th>X Coordinate (State Plane)</th>\n",
       "      <td>3540</td>\n",
       "    </tr>\n",
       "    <tr>\n",
       "      <th>Y Coordinate (State Plane)</th>\n",
       "      <td>3540</td>\n",
       "    </tr>\n",
       "    <tr>\n",
       "      <th>Park Facility Name</th>\n",
       "      <td>0</td>\n",
       "    </tr>\n",
       "    <tr>\n",
       "      <th>Park Borough</th>\n",
       "      <td>0</td>\n",
       "    </tr>\n",
       "    <tr>\n",
       "      <th>School Name</th>\n",
       "      <td>0</td>\n",
       "    </tr>\n",
       "    <tr>\n",
       "      <th>School Number</th>\n",
       "      <td>0</td>\n",
       "    </tr>\n",
       "    <tr>\n",
       "      <th>School Region</th>\n",
       "      <td>1</td>\n",
       "    </tr>\n",
       "    <tr>\n",
       "      <th>School Code</th>\n",
       "      <td>1</td>\n",
       "    </tr>\n",
       "    <tr>\n",
       "      <th>School Phone Number</th>\n",
       "      <td>0</td>\n",
       "    </tr>\n",
       "    <tr>\n",
       "      <th>School Address</th>\n",
       "      <td>0</td>\n",
       "    </tr>\n",
       "    <tr>\n",
       "      <th>School City</th>\n",
       "      <td>0</td>\n",
       "    </tr>\n",
       "    <tr>\n",
       "      <th>School State</th>\n",
       "      <td>0</td>\n",
       "    </tr>\n",
       "    <tr>\n",
       "      <th>School Zip</th>\n",
       "      <td>1</td>\n",
       "    </tr>\n",
       "    <tr>\n",
       "      <th>School Not Found</th>\n",
       "      <td>0</td>\n",
       "    </tr>\n",
       "    <tr>\n",
       "      <th>School or Citywide Complaint</th>\n",
       "      <td>300698</td>\n",
       "    </tr>\n",
       "    <tr>\n",
       "      <th>Vehicle Type</th>\n",
       "      <td>300698</td>\n",
       "    </tr>\n",
       "    <tr>\n",
       "      <th>Taxi Company Borough</th>\n",
       "      <td>300698</td>\n",
       "    </tr>\n",
       "    <tr>\n",
       "      <th>Taxi Pick Up Location</th>\n",
       "      <td>300698</td>\n",
       "    </tr>\n",
       "    <tr>\n",
       "      <th>Bridge Highway Name</th>\n",
       "      <td>300455</td>\n",
       "    </tr>\n",
       "    <tr>\n",
       "      <th>Bridge Highway Direction</th>\n",
       "      <td>300455</td>\n",
       "    </tr>\n",
       "    <tr>\n",
       "      <th>Road Ramp</th>\n",
       "      <td>300485</td>\n",
       "    </tr>\n",
       "    <tr>\n",
       "      <th>Bridge Highway Segment</th>\n",
       "      <td>300485</td>\n",
       "    </tr>\n",
       "    <tr>\n",
       "      <th>Garage Lot Name</th>\n",
       "      <td>300698</td>\n",
       "    </tr>\n",
       "    <tr>\n",
       "      <th>Ferry Direction</th>\n",
       "      <td>300697</td>\n",
       "    </tr>\n",
       "    <tr>\n",
       "      <th>Ferry Terminal Name</th>\n",
       "      <td>300696</td>\n",
       "    </tr>\n",
       "    <tr>\n",
       "      <th>Latitude</th>\n",
       "      <td>3540</td>\n",
       "    </tr>\n",
       "    <tr>\n",
       "      <th>Longitude</th>\n",
       "      <td>3540</td>\n",
       "    </tr>\n",
       "    <tr>\n",
       "      <th>Location</th>\n",
       "      <td>3540</td>\n",
       "    </tr>\n",
       "    <tr>\n",
       "      <th>Request_Closing_Time</th>\n",
       "      <td>2164</td>\n",
       "    </tr>\n",
       "  </tbody>\n",
       "</table>\n",
       "</div>"
      ],
      "text/plain": [
       "                                     0\n",
       "Unique Key                           0\n",
       "Created Date                         0\n",
       "Closed Date                       2164\n",
       "Agency                               0\n",
       "Agency Name                          0\n",
       "Complaint Type                       0\n",
       "Descriptor                        5914\n",
       "Location Type                      131\n",
       "Incident Zip                      2615\n",
       "Incident Address                 44410\n",
       "Street Name                      44410\n",
       "Cross Street 1                   49279\n",
       "Cross Street 2                   49779\n",
       "Intersection Street 1           256840\n",
       "Intersection Street 2           257336\n",
       "Address Type                      2815\n",
       "City                              2614\n",
       "Landmark                        300349\n",
       "Facility Type                     2171\n",
       "Status                               0\n",
       "Due Date                             3\n",
       "Resolution Description               0\n",
       "Resolution Action Updated Date    2187\n",
       "Community Board                      0\n",
       "Borough                              0\n",
       "X Coordinate (State Plane)        3540\n",
       "Y Coordinate (State Plane)        3540\n",
       "Park Facility Name                   0\n",
       "Park Borough                         0\n",
       "School Name                          0\n",
       "School Number                        0\n",
       "School Region                        1\n",
       "School Code                          1\n",
       "School Phone Number                  0\n",
       "School Address                       0\n",
       "School City                          0\n",
       "School State                         0\n",
       "School Zip                           1\n",
       "School Not Found                     0\n",
       "School or Citywide Complaint    300698\n",
       "Vehicle Type                    300698\n",
       "Taxi Company Borough            300698\n",
       "Taxi Pick Up Location           300698\n",
       "Bridge Highway Name             300455\n",
       "Bridge Highway Direction        300455\n",
       "Road Ramp                       300485\n",
       "Bridge Highway Segment          300485\n",
       "Garage Lot Name                 300698\n",
       "Ferry Direction                 300697\n",
       "Ferry Terminal Name             300696\n",
       "Latitude                          3540\n",
       "Longitude                         3540\n",
       "Location                          3540\n",
       "Request_Closing_Time              2164"
      ]
     },
     "execution_count": 38,
     "metadata": {},
     "output_type": "execute_result"
    }
   ],
   "source": [
    "data.isnull().sum().to_frame()"
   ]
  },
  {
   "cell_type": "code",
   "execution_count": 39,
   "id": "a926894c",
   "metadata": {},
   "outputs": [
    {
     "data": {
      "text/plain": [
       "Index(['Unique Key', 'Created Date', 'Closed Date', 'Agency', 'Agency Name',\n",
       "       'Complaint Type', 'Descriptor', 'Location Type', 'Incident Zip',\n",
       "       'Incident Address', 'Street Name', 'Cross Street 1', 'Cross Street 2',\n",
       "       'Intersection Street 1', 'Intersection Street 2', 'Address Type',\n",
       "       'City', 'Landmark', 'Facility Type', 'Status', 'Due Date',\n",
       "       'Resolution Description', 'Resolution Action Updated Date',\n",
       "       'Community Board', 'Borough', 'X Coordinate (State Plane)',\n",
       "       'Y Coordinate (State Plane)', 'Park Facility Name', 'Park Borough',\n",
       "       'School Name', 'School Number', 'School Region', 'School Code',\n",
       "       'School Phone Number', 'School Address', 'School City', 'School State',\n",
       "       'School Zip', 'School Not Found', 'School or Citywide Complaint',\n",
       "       'Vehicle Type', 'Taxi Company Borough', 'Taxi Pick Up Location',\n",
       "       'Bridge Highway Name', 'Bridge Highway Direction', 'Road Ramp',\n",
       "       'Bridge Highway Segment', 'Garage Lot Name', 'Ferry Direction',\n",
       "       'Ferry Terminal Name', 'Latitude', 'Longitude', 'Location',\n",
       "       'Request_Closing_Time'],\n",
       "      dtype='object')"
      ]
     },
     "execution_count": 39,
     "metadata": {},
     "output_type": "execute_result"
    }
   ],
   "source": [
    "data.columns"
   ]
  },
  {
   "cell_type": "code",
   "execution_count": 40,
   "id": "42fe23d5",
   "metadata": {},
   "outputs": [
    {
     "data": {
      "text/html": [
       "<div>\n",
       "<style scoped>\n",
       "    .dataframe tbody tr th:only-of-type {\n",
       "        vertical-align: middle;\n",
       "    }\n",
       "\n",
       "    .dataframe tbody tr th {\n",
       "        vertical-align: top;\n",
       "    }\n",
       "\n",
       "    .dataframe thead th {\n",
       "        text-align: right;\n",
       "    }\n",
       "</style>\n",
       "<table border=\"1\" class=\"dataframe\">\n",
       "  <thead>\n",
       "    <tr style=\"text-align: right;\">\n",
       "      <th></th>\n",
       "      <th>Unique Key</th>\n",
       "      <th>Created Date</th>\n",
       "      <th>Closed Date</th>\n",
       "      <th>Agency</th>\n",
       "      <th>Agency Name</th>\n",
       "      <th>Complaint Type</th>\n",
       "      <th>Descriptor</th>\n",
       "      <th>Location Type</th>\n",
       "      <th>Incident Zip</th>\n",
       "      <th>Incident Address</th>\n",
       "      <th>...</th>\n",
       "      <th>Bridge Highway Direction</th>\n",
       "      <th>Road Ramp</th>\n",
       "      <th>Bridge Highway Segment</th>\n",
       "      <th>Garage Lot Name</th>\n",
       "      <th>Ferry Direction</th>\n",
       "      <th>Ferry Terminal Name</th>\n",
       "      <th>Latitude</th>\n",
       "      <th>Longitude</th>\n",
       "      <th>Location</th>\n",
       "      <th>Request_Closing_Time</th>\n",
       "    </tr>\n",
       "  </thead>\n",
       "  <tbody>\n",
       "    <tr>\n",
       "      <th>0</th>\n",
       "      <td>32310363</td>\n",
       "      <td>2015-12-31 23:59:45</td>\n",
       "      <td>2016-01-01 00:55:00</td>\n",
       "      <td>NYPD</td>\n",
       "      <td>New York City Police Department</td>\n",
       "      <td>Noise - Street/Sidewalk</td>\n",
       "      <td>Loud Music/Party</td>\n",
       "      <td>Street/Sidewalk</td>\n",
       "      <td>10034.0</td>\n",
       "      <td>71 VERMILYEA AVENUE</td>\n",
       "      <td>...</td>\n",
       "      <td>NaN</td>\n",
       "      <td>NaN</td>\n",
       "      <td>NaN</td>\n",
       "      <td>NaN</td>\n",
       "      <td>NaN</td>\n",
       "      <td>NaN</td>\n",
       "      <td>40.865682</td>\n",
       "      <td>-73.923501</td>\n",
       "      <td>(40.86568153633767, -73.92350095571744)</td>\n",
       "      <td>-1 days +23:04:45</td>\n",
       "    </tr>\n",
       "    <tr>\n",
       "      <th>1</th>\n",
       "      <td>32309934</td>\n",
       "      <td>2015-12-31 23:59:44</td>\n",
       "      <td>2016-01-01 01:26:00</td>\n",
       "      <td>NYPD</td>\n",
       "      <td>New York City Police Department</td>\n",
       "      <td>Blocked Driveway</td>\n",
       "      <td>No Access</td>\n",
       "      <td>Street/Sidewalk</td>\n",
       "      <td>11105.0</td>\n",
       "      <td>27-07 23 AVENUE</td>\n",
       "      <td>...</td>\n",
       "      <td>NaN</td>\n",
       "      <td>NaN</td>\n",
       "      <td>NaN</td>\n",
       "      <td>NaN</td>\n",
       "      <td>NaN</td>\n",
       "      <td>NaN</td>\n",
       "      <td>40.775945</td>\n",
       "      <td>-73.915094</td>\n",
       "      <td>(40.775945312321085, -73.91509393898605)</td>\n",
       "      <td>-1 days +22:33:44</td>\n",
       "    </tr>\n",
       "    <tr>\n",
       "      <th>2</th>\n",
       "      <td>32309159</td>\n",
       "      <td>2015-12-31 23:59:29</td>\n",
       "      <td>2016-01-01 04:51:00</td>\n",
       "      <td>NYPD</td>\n",
       "      <td>New York City Police Department</td>\n",
       "      <td>Blocked Driveway</td>\n",
       "      <td>No Access</td>\n",
       "      <td>Street/Sidewalk</td>\n",
       "      <td>10458.0</td>\n",
       "      <td>2897 VALENTINE AVENUE</td>\n",
       "      <td>...</td>\n",
       "      <td>NaN</td>\n",
       "      <td>NaN</td>\n",
       "      <td>NaN</td>\n",
       "      <td>NaN</td>\n",
       "      <td>NaN</td>\n",
       "      <td>NaN</td>\n",
       "      <td>40.870325</td>\n",
       "      <td>-73.888525</td>\n",
       "      <td>(40.870324522111424, -73.88852464418646)</td>\n",
       "      <td>-1 days +19:08:29</td>\n",
       "    </tr>\n",
       "    <tr>\n",
       "      <th>3</th>\n",
       "      <td>32305098</td>\n",
       "      <td>2015-12-31 23:57:46</td>\n",
       "      <td>2016-01-01 07:43:00</td>\n",
       "      <td>NYPD</td>\n",
       "      <td>New York City Police Department</td>\n",
       "      <td>Illegal Parking</td>\n",
       "      <td>Commercial Overnight Parking</td>\n",
       "      <td>Street/Sidewalk</td>\n",
       "      <td>10461.0</td>\n",
       "      <td>2940 BAISLEY AVENUE</td>\n",
       "      <td>...</td>\n",
       "      <td>NaN</td>\n",
       "      <td>NaN</td>\n",
       "      <td>NaN</td>\n",
       "      <td>NaN</td>\n",
       "      <td>NaN</td>\n",
       "      <td>NaN</td>\n",
       "      <td>40.835994</td>\n",
       "      <td>-73.828379</td>\n",
       "      <td>(40.83599404683083, -73.82837939584206)</td>\n",
       "      <td>-1 days +16:14:46</td>\n",
       "    </tr>\n",
       "    <tr>\n",
       "      <th>4</th>\n",
       "      <td>32306529</td>\n",
       "      <td>2015-12-31 23:56:58</td>\n",
       "      <td>2016-01-01 03:24:00</td>\n",
       "      <td>NYPD</td>\n",
       "      <td>New York City Police Department</td>\n",
       "      <td>Illegal Parking</td>\n",
       "      <td>Blocked Sidewalk</td>\n",
       "      <td>Street/Sidewalk</td>\n",
       "      <td>11373.0</td>\n",
       "      <td>87-14 57 ROAD</td>\n",
       "      <td>...</td>\n",
       "      <td>NaN</td>\n",
       "      <td>NaN</td>\n",
       "      <td>NaN</td>\n",
       "      <td>NaN</td>\n",
       "      <td>NaN</td>\n",
       "      <td>NaN</td>\n",
       "      <td>40.733060</td>\n",
       "      <td>-73.874170</td>\n",
       "      <td>(40.733059618956815, -73.87416975810375)</td>\n",
       "      <td>-1 days +20:32:58</td>\n",
       "    </tr>\n",
       "  </tbody>\n",
       "</table>\n",
       "<p>5 rows × 54 columns</p>\n",
       "</div>"
      ],
      "text/plain": [
       "   Unique Key        Created Date         Closed Date Agency  \\\n",
       "0    32310363 2015-12-31 23:59:45 2016-01-01 00:55:00   NYPD   \n",
       "1    32309934 2015-12-31 23:59:44 2016-01-01 01:26:00   NYPD   \n",
       "2    32309159 2015-12-31 23:59:29 2016-01-01 04:51:00   NYPD   \n",
       "3    32305098 2015-12-31 23:57:46 2016-01-01 07:43:00   NYPD   \n",
       "4    32306529 2015-12-31 23:56:58 2016-01-01 03:24:00   NYPD   \n",
       "\n",
       "                       Agency Name           Complaint Type  \\\n",
       "0  New York City Police Department  Noise - Street/Sidewalk   \n",
       "1  New York City Police Department         Blocked Driveway   \n",
       "2  New York City Police Department         Blocked Driveway   \n",
       "3  New York City Police Department          Illegal Parking   \n",
       "4  New York City Police Department          Illegal Parking   \n",
       "\n",
       "                     Descriptor    Location Type  Incident Zip  \\\n",
       "0              Loud Music/Party  Street/Sidewalk       10034.0   \n",
       "1                     No Access  Street/Sidewalk       11105.0   \n",
       "2                     No Access  Street/Sidewalk       10458.0   \n",
       "3  Commercial Overnight Parking  Street/Sidewalk       10461.0   \n",
       "4              Blocked Sidewalk  Street/Sidewalk       11373.0   \n",
       "\n",
       "        Incident Address  ... Bridge Highway Direction Road Ramp  \\\n",
       "0    71 VERMILYEA AVENUE  ...                      NaN       NaN   \n",
       "1        27-07 23 AVENUE  ...                      NaN       NaN   \n",
       "2  2897 VALENTINE AVENUE  ...                      NaN       NaN   \n",
       "3    2940 BAISLEY AVENUE  ...                      NaN       NaN   \n",
       "4          87-14 57 ROAD  ...                      NaN       NaN   \n",
       "\n",
       "  Bridge Highway Segment Garage Lot Name Ferry Direction Ferry Terminal Name  \\\n",
       "0                    NaN             NaN             NaN                 NaN   \n",
       "1                    NaN             NaN             NaN                 NaN   \n",
       "2                    NaN             NaN             NaN                 NaN   \n",
       "3                    NaN             NaN             NaN                 NaN   \n",
       "4                    NaN             NaN             NaN                 NaN   \n",
       "\n",
       "    Latitude  Longitude                                  Location  \\\n",
       "0  40.865682 -73.923501   (40.86568153633767, -73.92350095571744)   \n",
       "1  40.775945 -73.915094  (40.775945312321085, -73.91509393898605)   \n",
       "2  40.870325 -73.888525  (40.870324522111424, -73.88852464418646)   \n",
       "3  40.835994 -73.828379   (40.83599404683083, -73.82837939584206)   \n",
       "4  40.733060 -73.874170  (40.733059618956815, -73.87416975810375)   \n",
       "\n",
       "  Request_Closing_Time  \n",
       "0    -1 days +23:04:45  \n",
       "1    -1 days +22:33:44  \n",
       "2    -1 days +19:08:29  \n",
       "3    -1 days +16:14:46  \n",
       "4    -1 days +20:32:58  \n",
       "\n",
       "[5 rows x 54 columns]"
      ]
     },
     "execution_count": 40,
     "metadata": {},
     "output_type": "execute_result"
    }
   ],
   "source": [
    "data.head()"
   ]
  },
  {
   "cell_type": "code",
   "execution_count": 41,
   "id": "bdc22b6e",
   "metadata": {},
   "outputs": [
    {
     "data": {
      "text/plain": [
       "<AxesSubplot:>"
      ]
     },
     "execution_count": 41,
     "metadata": {},
     "output_type": "execute_result"
    },
    {
     "data": {
      "image/png": "[encoded data removed]",
      "text/plain": [
       "<Figure size 504x360 with 1 Axes>"
      ]
     },
     "metadata": {
      "needs_background": "light"
     },
     "output_type": "display_data"
    }
   ],
   "source": [
    "data[\"Status\"].value_counts().plot(kind=\"bar\",figsize=(7,5),alpha=0.6)"
   ]
  },
  {
   "cell_type": "code",
   "execution_count": 44,
   "id": "cb28e7c8",
   "metadata": {},
   "outputs": [
    {
     "data": {
      "text/plain": [
       "<AxesSubplot:>"
      ]
     },
     "execution_count": 44,
     "metadata": {},
     "output_type": "execute_result"
    },
    {
     "data": {
      "image/png": "[encoded data removed]",
      "text/plain": [
       "<Figure size 1080x720 with 1 Axes>"
      ]
     },
     "metadata": {
      "needs_background": "light"
     },
     "output_type": "display_data"
    }
   ],
   "source": [
    "data[\"Complaint Type\"].value_counts().plot(kind=\"bar\",figsize=(15,10),alpha=0.6)"
   ]
  },
  {
   "cell_type": "markdown",
   "id": "76756280",
   "metadata": {},
   "source": [
    "City with Highest complaints"
   ]
  },
  {
   "cell_type": "code",
   "execution_count": 47,
   "id": "8b377381",
   "metadata": {},
   "outputs": [
    {
     "data": {
      "image/png": "[encoded data removed]",
      "text/plain": [
       "<Figure size 1440x1080 with 1 Axes>"
      ]
     },
     "metadata": {
      "needs_background": "light"
     },
     "output_type": "display_data"
    }
   ],
   "source": [
    "data[\"City\"].value_counts().plot(kind=\"bar\",figsize=(20,15),alpha=0.6)\n",
    "plt.show()"
   ]
  },
  {
   "cell_type": "code",
   "execution_count": 48,
   "id": "25818a06",
   "metadata": {},
   "outputs": [],
   "source": [
    "grp_complaint = data.groupby(\"Complaint Type\")"
   ]
  },
  {
   "cell_type": "code",
   "execution_count": 49,
   "id": "6e902164",
   "metadata": {},
   "outputs": [
    {
     "data": {
      "text/plain": [
       "(77044, 54)"
      ]
     },
     "execution_count": 49,
     "metadata": {},
     "output_type": "execute_result"
    }
   ],
   "source": [
    "grp_data = grp_complaint.get_group(\"Blocked Driveway\")\n",
    "grp_data.shape"
   ]
  },
  {
   "cell_type": "code",
   "execution_count": 50,
   "id": "66eabaee",
   "metadata": {},
   "outputs": [
    {
     "data": {
      "text/plain": [
       "283"
      ]
     },
     "execution_count": 50,
     "metadata": {},
     "output_type": "execute_result"
    }
   ],
   "source": [
    "grp_data[\"City\"].isnull().sum()"
   ]
  },
  {
   "cell_type": "code",
   "execution_count": 53,
   "id": "7a5e177c",
   "metadata": {},
   "outputs": [
    {
     "data": {
      "text/plain": [
       "1                 ASTORIA\n",
       "2                   BRONX\n",
       "7                   BRONX\n",
       "9                BROOKLYN\n",
       "10        JACKSON HEIGHTS\n",
       "               ...       \n",
       "300665           BROOKLYN\n",
       "300672           BROOKLYN\n",
       "300679          RIDGEWOOD\n",
       "300687          RIDGEWOOD\n",
       "300694      RICHMOND HILL\n",
       "Name: City, Length: 77044, dtype: object"
      ]
     },
     "execution_count": 53,
     "metadata": {},
     "output_type": "execute_result"
    }
   ],
   "source": [
    "grp_data[\"City\"].fillna(\"Unknown City\")"
   ]
  },
  {
   "cell_type": "code",
   "execution_count": 54,
   "id": "ca246a9a",
   "metadata": {},
   "outputs": [
    {
     "data": {
      "text/plain": [
       "0"
      ]
     },
     "execution_count": 54,
     "metadata": {},
     "output_type": "execute_result"
    }
   ],
   "source": [
    "grp_data[\"City\"].isnull().sum()"
   ]
  },
  {
   "cell_type": "code",
   "execution_count": 56,
   "id": "6d8dfb55",
   "metadata": {},
   "outputs": [
    {
     "data": {
      "image/png": "[encoded data removed]",
      "text/plain": [
       "<Figure size 1440x1080 with 1 Axes>"
      ]
     },
     "metadata": {
      "needs_background": "light"
     },
     "output_type": "display_data"
    }
   ],
   "source": [
    "plt.figure(figsize=(20,15))\n",
    "plt.scatter(grp_data[\"Complaint Type\"],grp_data['City'])\n",
    "plt.title(\"plot showing list of cities that raised complaint of type Blocked Driveways\",size=20)\n",
    "plt.ylabel(\"Cities\",size=20)\n",
    "plt.show()"
   ]
  },
  {
   "cell_type": "markdown",
   "id": "5940e90b",
   "metadata": {},
   "source": [
    "Order the complaint types based on the average ‘Request_Closing_Time’, grouping them for different locations."
   ]
  },
  {
   "cell_type": "code",
   "execution_count": 61,
   "id": "33829d5c",
   "metadata": {},
   "outputs": [],
   "source": [
    "sort_data = grp_data.sort_values(by=\"Request_Closing_Time\")"
   ]
  },
  {
   "cell_type": "code",
   "execution_count": 76,
   "id": "a1bebd3e",
   "metadata": {},
   "outputs": [],
   "source": [
    "df1 = sort_data.groupby(\"Location Type\")"
   ]
  },
  {
   "cell_type": "code",
   "execution_count": 84,
   "id": "60bc3b60",
   "metadata": {},
   "outputs": [
    {
     "data": {
      "text/html": [
       "<div>\n",
       "<style scoped>\n",
       "    .dataframe tbody tr th:only-of-type {\n",
       "        vertical-align: middle;\n",
       "    }\n",
       "\n",
       "    .dataframe tbody tr th {\n",
       "        vertical-align: top;\n",
       "    }\n",
       "\n",
       "    .dataframe thead th {\n",
       "        text-align: right;\n",
       "    }\n",
       "</style>\n",
       "<table border=\"1\" class=\"dataframe\">\n",
       "  <thead>\n",
       "    <tr style=\"text-align: right;\">\n",
       "      <th></th>\n",
       "      <th>Complaint Type</th>\n",
       "      <th>Location Type</th>\n",
       "      <th>Request_Closing_Time</th>\n",
       "      <th>City</th>\n",
       "    </tr>\n",
       "  </thead>\n",
       "  <tbody>\n",
       "    <tr>\n",
       "      <th>27880</th>\n",
       "      <td>Blocked Driveway</td>\n",
       "      <td>Street/Sidewalk</td>\n",
       "      <td>-7 days +19:43:00</td>\n",
       "      <td>BRONX</td>\n",
       "    </tr>\n",
       "    <tr>\n",
       "      <th>27767</th>\n",
       "      <td>Blocked Driveway</td>\n",
       "      <td>Street/Sidewalk</td>\n",
       "      <td>-7 days +21:46:00</td>\n",
       "      <td>BRONX</td>\n",
       "    </tr>\n",
       "    <tr>\n",
       "      <th>27629</th>\n",
       "      <td>Blocked Driveway</td>\n",
       "      <td>Street/Sidewalk</td>\n",
       "      <td>-6 days +02:44:00</td>\n",
       "      <td>BRONX</td>\n",
       "    </tr>\n",
       "    <tr>\n",
       "      <th>27360</th>\n",
       "      <td>Blocked Driveway</td>\n",
       "      <td>Street/Sidewalk</td>\n",
       "      <td>-6 days +09:24:00</td>\n",
       "      <td>BRONX</td>\n",
       "    </tr>\n",
       "    <tr>\n",
       "      <th>26647</th>\n",
       "      <td>Blocked Driveway</td>\n",
       "      <td>Street/Sidewalk</td>\n",
       "      <td>-6 days +22:22:00</td>\n",
       "      <td>BRONX</td>\n",
       "    </tr>\n",
       "    <tr>\n",
       "      <th>176148</th>\n",
       "      <td>Blocked Driveway</td>\n",
       "      <td>NaN</td>\n",
       "      <td>-1 days +11:01:52</td>\n",
       "      <td>BROOKLYN</td>\n",
       "    </tr>\n",
       "    <tr>\n",
       "      <th>176128</th>\n",
       "      <td>Blocked Driveway</td>\n",
       "      <td>NaN</td>\n",
       "      <td>-1 days +13:43:29</td>\n",
       "      <td>BRONX</td>\n",
       "    </tr>\n",
       "    <tr>\n",
       "      <th>176122</th>\n",
       "      <td>Blocked Driveway</td>\n",
       "      <td>NaN</td>\n",
       "      <td>-1 days +14:10:42</td>\n",
       "      <td>BROOKLYN</td>\n",
       "    </tr>\n",
       "    <tr>\n",
       "      <th>176332</th>\n",
       "      <td>Blocked Driveway</td>\n",
       "      <td>NaN</td>\n",
       "      <td>-1 days +15:44:35</td>\n",
       "      <td>COLLEGE POINT</td>\n",
       "    </tr>\n",
       "    <tr>\n",
       "      <th>176328</th>\n",
       "      <td>Blocked Driveway</td>\n",
       "      <td>NaN</td>\n",
       "      <td>-1 days +15:47:44</td>\n",
       "      <td>BROOKLYN</td>\n",
       "    </tr>\n",
       "  </tbody>\n",
       "</table>\n",
       "</div>"
      ],
      "text/plain": [
       "          Complaint Type    Location Type Request_Closing_Time           City\n",
       "27880   Blocked Driveway  Street/Sidewalk    -7 days +19:43:00          BRONX\n",
       "27767   Blocked Driveway  Street/Sidewalk    -7 days +21:46:00          BRONX\n",
       "27629   Blocked Driveway  Street/Sidewalk    -6 days +02:44:00          BRONX\n",
       "27360   Blocked Driveway  Street/Sidewalk    -6 days +09:24:00          BRONX\n",
       "26647   Blocked Driveway  Street/Sidewalk    -6 days +22:22:00          BRONX\n",
       "176148  Blocked Driveway              NaN    -1 days +11:01:52       BROOKLYN\n",
       "176128  Blocked Driveway              NaN    -1 days +13:43:29          BRONX\n",
       "176122  Blocked Driveway              NaN    -1 days +14:10:42       BROOKLYN\n",
       "176332  Blocked Driveway              NaN    -1 days +15:44:35  COLLEGE POINT\n",
       "176328  Blocked Driveway              NaN    -1 days +15:47:44       BROOKLYN"
      ]
     },
     "execution_count": 84,
     "metadata": {},
     "output_type": "execute_result"
    }
   ],
   "source": [
    "df1[[\"Complaint Type\",\"Location Type\",\"Request_Closing_Time\",\"City\"]].head()"
   ]
  },
  {
   "cell_type": "markdown",
   "id": "e6bd79e1",
   "metadata": {},
   "source": [
    "Perform a statistical test for the following:\n",
    "\n",
    "Please note: For the below statements you need to state the Null and Alternate and then provide a statistical test to accept or reject the Null Hypothesis along with the corresponding ‘p-value’.\n",
    "\n",
    "Whether the average response time across complaint types is similar or not (overall)\n",
    "\n",
    "Are the type of complaint or service requested and location related?\n",
    "\n"
   ]
  },
  {
   "cell_type": "code",
   "execution_count": 92,
   "id": "39077b28",
   "metadata": {},
   "outputs": [],
   "source": [
    "import scipy.stats as stats"
   ]
  },
  {
   "cell_type": "code",
   "execution_count": 130,
   "id": "ac49a979",
   "metadata": {},
   "outputs": [
    {
     "data": {
      "text/plain": [
       "0"
      ]
     },
     "execution_count": 130,
     "metadata": {},
     "output_type": "execute_result"
    }
   ],
   "source": [
    "data[\"Location Type\"]=data[\"Location Type\"].fillna(\"Unknown Location\")\n",
    "data[\"Location Type\"].isnull().sum()"
   ]
  },
  {
   "cell_type": "code",
   "execution_count": 143,
   "id": "c9e38240",
   "metadata": {
    "scrolled": false
   },
   "outputs": [],
   "source": [
    "dataset_table = pd.crosstab(data[\"Complaint Type\"],data[\"Location Type\"])"
   ]
  },
  {
   "cell_type": "code",
   "execution_count": 144,
   "id": "9bc2bb90",
   "metadata": {},
   "outputs": [
    {
     "name": "stdout",
     "output_type": "stream",
     "text": [
      "Observed Values:-\n",
      " [[    0     0     0     0     0     0     0     0     0     0     0     0\n",
      "      0     0     0     0     0     6     0]\n",
      " [    0     0    62     0     0    93     0     0   123   110   227  5085\n",
      "      0   522  1531    22     0     3     0]\n",
      " [    0     0     0     0     0     0     0     1     0     0     0     0\n",
      "      0     0     0     0     0     0     0]\n",
      " [    0     0     0     0     0     0     0     0     0     0     0    26\n",
      "      0    53   348     0     0     0     0]\n",
      " [    0     0     0     0     0     0     0     0     0     0     0     0\n",
      "      0     0 77007     0     0    37     0]\n",
      " [    0     0     0     0    14     0     0     0     0     0     0     0\n",
      "      5     0 17614     0     0     8    77]\n",
      " [    0     0     0     0     0     0     0     0     0     0     0    77\n",
      "      0     8   201     0     0     0     0]\n",
      " [    0   366     0     0     0     0     0     0    98     0     0   291\n",
      "      0    90   434     0     0     1     0]\n",
      " [    0     0     0     1     0     0     0     0     0     0     0     0\n",
      "      0     0     0     0     1     0     0]\n",
      " [    0     0     0     0     0     0     0     0     0     0     0    56\n",
      "      0    32    25     0     0     0     0]\n",
      " [    2     0     0     0    15     0     0     0   353     0     0   983\n",
      "      1   512  2541     0     0     9     0]\n",
      " [    0     0     0     0     0     0     0     0     8     0     0    33\n",
      "      0     2   125     0     0     0     0]\n",
      " [    0     0     0     0     0     0     0     0     0     0     0     0\n",
      "      0     0 75326     0     0    35     0]\n",
      " [    0 16973     0     0     0     0     0     0     0     0     0     0\n",
      "      0 18598     0     0     0     6     0]\n",
      " [    0     0     0     0     0     0   929     0     0     0     0     0\n",
      "      0     0     0     0     0     2     0]\n",
      " [    0     0     0     0     0     0     0     0  4041     0     0     0\n",
      "      0     0     0     0     0     1     0]\n",
      " [    0     0     0     0     0     0     0     0     0     0     0     0\n",
      "      0     0 48601     0     0    11     0]\n",
      " [    0     0     0     0     0     0     0     0     0     0     0     0\n",
      "      0     0 17080     0     0     3     0]\n",
      " [    0     0     0     0     0     0     0     0     6     0     0    16\n",
      "      0    60   225     0     0     0     0]\n",
      " [    0     0     0     0     0     0     0     0     0     7     0    54\n",
      "      0     6   582     0     0     1     0]\n",
      " [    0     0     0     0     0     0     0     0     0     0     0     0\n",
      "      0     0     4     0     0     0     0]\n",
      " [    0     0     0     0   186     0     0     0     0     0     0     0\n",
      "     29     0  4278     0     0     5     0]\n",
      " [    0    21     0     0     0     0     0     0    38     0     0   138\n",
      "      0    66   316    12     0     1     0]\n",
      " [    0     0     0     0     0     0     0     0   106     0     0   201\n",
      "      0   432  3061     0     0     2     0]]\n"
     ]
    }
   ],
   "source": [
    "Observed_Data = dataset_table.values\n",
    "print(\"Observed Values:-\\n\", Observed_Data)"
   ]
  },
  {
   "cell_type": "code",
   "execution_count": 145,
   "id": "58770188",
   "metadata": {},
   "outputs": [
    {
     "data": {
      "text/plain": [
       "(24, 19)"
      ]
     },
     "execution_count": 145,
     "metadata": {},
     "output_type": "execute_result"
    }
   ],
   "source": [
    "Observed_Data.shape"
   ]
  },
  {
   "cell_type": "code",
   "execution_count": 146,
   "id": "8281b4c4",
   "metadata": {},
   "outputs": [],
   "source": [
    "val = stats.chi2_contingency(dataset_table)"
   ]
  },
  {
   "cell_type": "code",
   "execution_count": 138,
   "id": "d34b9c3a",
   "metadata": {
    "scrolled": false
   },
   "outputs": [
    {
     "data": {
      "text/plain": [
       "(1652072.540954126,\n",
       " 0.0,\n",
       " 414,\n",
       " array([[3.99071494e-05, 3.46394056e-01, 1.23712163e-03, 1.99535747e-05,\n",
       "         4.29001856e-03, 1.85568245e-03, 1.85368709e-02, 1.99535747e-05,\n",
       "         9.52384120e-02, 2.33456824e-03, 4.52946145e-03, 1.38876880e-01,\n",
       "         6.98375114e-04, 4.06673806e-01, 4.97440621e+00, 6.78421539e-04,\n",
       "         1.99535747e-05, 2.61391828e-03, 1.53642525e-03],\n",
       "        [5.17329680e-02, 4.49042162e+02, 1.60372201e+00, 2.58664840e-02,\n",
       "         5.56129406e+00, 2.40558301e+00, 2.40299636e+01, 2.58664840e-02,\n",
       "         1.23460728e+02, 3.02637863e+00, 5.87169186e+00, 1.80030729e+02,\n",
       "         9.05326939e-01, 5.27184810e+02, 6.44848859e+03, 8.79460455e-01,\n",
       "         2.58664840e-02, 3.38850940e+00, 1.99171927e+00],\n",
       "        [6.65119156e-06, 5.77323427e-02, 2.06186938e-04, 3.32559578e-06,\n",
       "         7.15003093e-04, 3.09280408e-04, 3.08947848e-03, 3.32559578e-06,\n",
       "         1.58730687e-02, 3.89094706e-04, 7.54910242e-04, 2.31461466e-02,\n",
       "         1.16395852e-04, 6.77789676e-02, 8.29067702e-01, 1.13070257e-04,\n",
       "         3.32559578e-06, 4.35653047e-04, 2.56070875e-04],\n",
       "        [2.84005880e-03, 2.46517104e+01, 8.80418227e-02, 1.42002940e-03,\n",
       "         3.05306321e-01, 1.32062734e-01, 1.31920731e+00, 1.42002940e-03,\n",
       "         6.77780032e+00, 1.66143440e-01, 3.22346673e-01, 9.88340461e+00,\n",
       "         4.97010289e-02, 2.89416192e+01, 3.54011909e+02, 4.82809995e-02,\n",
       "         1.42002940e-03, 1.86023851e-01, 1.09342264e-01],\n",
       "        [5.12434403e-01, 4.44793061e+03, 1.58854665e+01, 2.56217201e-01,\n",
       "         5.50866983e+01, 2.38281997e+01, 2.38025780e+02, 2.56217201e-01,\n",
       "         1.22292470e+03, 2.99774126e+01, 5.81613047e+01, 1.78327172e+03,\n",
       "         8.96760205e+00, 5.22196278e+03, 6.38746921e+04, 8.71138484e+00,\n",
       "         2.56217201e-01, 3.35644534e+01, 1.97287245e+01],\n",
       "        [1.17845812e-01, 1.02290165e+03, 3.65322017e+00, 5.89229060e-02,\n",
       "         1.26684248e+01, 5.47983026e+00, 5.47393797e+01, 5.89229060e-02,\n",
       "         2.81239031e+02, 6.89398001e+00, 1.33754997e+01, 4.10103426e+02,\n",
       "         2.06230171e+00, 1.20090775e+03, 1.46894216e+04, 2.00337881e+00,\n",
       "         5.89229060e-02, 7.71890069e+00, 4.53706376e+00],\n",
       "        [1.90224079e-03, 1.65114500e+01, 5.89694644e-02, 9.51120393e-04,\n",
       "         2.04490885e-01, 8.84541966e-02, 8.83590845e-01, 9.51120393e-04,\n",
       "         4.53969764e+00, 1.11281086e-01, 2.15904329e-01, 6.61979794e+00,\n",
       "         3.32892138e-02, 1.93847847e+01, 2.37113363e+02, 3.23380934e-02,\n",
       "         9.51120393e-04, 1.24596772e-01, 7.32362703e-02],\n",
       "        [8.51352520e-03, 7.38973987e+01, 2.63919281e-01, 4.25676260e-03,\n",
       "         9.15203959e-01, 3.95878922e-01, 3.95453245e+00, 4.25676260e-03,\n",
       "         2.03175279e+01, 4.98041224e-01, 9.66285110e-01, 2.96270677e+01,\n",
       "         1.48986691e-01, 8.67570785e+01, 1.06120666e+03, 1.44729928e-01,\n",
       "         4.25676260e-03, 5.57635900e-01, 3.27770720e-01],\n",
       "        [1.33023831e-05, 1.15464685e-01, 4.12373877e-04, 6.65119156e-06,\n",
       "         1.43000619e-03, 6.18560815e-04, 6.17895696e-03, 6.65119156e-06,\n",
       "         3.17461373e-02, 7.78189413e-04, 1.50982048e-03, 4.62922933e-02,\n",
       "         2.32791705e-04, 1.35557935e-01, 1.65813540e+00, 2.26140513e-04,\n",
       "         6.65119156e-06, 8.71306094e-04, 5.12141750e-04],\n",
       "        [7.51584646e-04, 6.52375473e+00, 2.32991240e-02, 3.75792323e-04,\n",
       "         8.07953495e-02, 3.49486861e-02, 3.49111068e-01, 3.75792323e-04,\n",
       "         1.79365676e+00, 4.39677018e-02, 8.53048574e-02, 2.61551457e+00,\n",
       "         1.31527313e-02, 7.65902334e+00, 9.36846504e+01, 1.27769390e-02,\n",
       "         3.75792323e-04, 4.92287943e-02, 2.89360089e-02],\n",
       "        [2.93716619e-02, 2.54946026e+02, 9.10521520e-01, 1.46858310e-02,\n",
       "         3.15745366e+00, 1.36578228e+00, 1.36431370e+01, 1.46858310e-02,\n",
       "         7.00954712e+01, 1.71824222e+00, 3.33368363e+00, 1.02213384e+02,\n",
       "         5.14004084e-01, 2.99311921e+02, 3.66116297e+03, 4.99318253e-01,\n",
       "         1.46858310e-02, 1.92384386e+00, 1.13080898e+00],\n",
       "        [1.11740018e-03, 9.69903358e+00, 3.46394056e-02, 5.58700091e-04,\n",
       "         1.20120520e-01, 5.19591085e-02, 5.19032385e-01, 5.58700091e-04,\n",
       "         2.66667553e+00, 6.53679107e-02, 1.26824921e-01, 3.88855263e+00,\n",
       "         1.95545032e-02, 1.13868666e+01, 1.39283374e+02, 1.89958031e-02,\n",
       "         5.58700091e-04, 7.31897119e-02, 4.30199070e-02],\n",
       "        [5.01240447e-01, 4.35076708e+03, 1.55384539e+01, 2.50620224e-01,\n",
       "         5.38833481e+01, 2.33076808e+01, 2.32826188e+02, 2.50620224e-01,\n",
       "         1.19621033e+03, 2.93225662e+01, 5.68907908e+01, 1.74431676e+03,\n",
       "         8.77170783e+00, 5.10789078e+03, 6.24793711e+04, 8.52108760e+00,\n",
       "         2.50620224e-01, 3.28312493e+01, 1.92977572e+01],\n",
       "        [2.36629442e-01, 2.05394356e+03, 7.33551271e+00, 1.18314721e-01,\n",
       "         2.54376650e+01, 1.10032691e+01, 1.09914376e+02, 1.18314721e-01,\n",
       "         5.64716164e+02, 1.38428224e+01, 2.68574417e+01, 8.23470459e+02,\n",
       "         4.14101524e+00, 2.41137233e+03, 2.94957417e+04, 4.02270052e+00,\n",
       "         1.18314721e-01, 1.54992285e+01, 9.11023352e+00],\n",
       "        [6.19225934e-03, 5.37488111e+01, 1.91960040e-01, 3.09612967e-03,\n",
       "         6.65667879e-01, 2.87940059e-01, 2.87630446e+00, 3.09612967e-03,\n",
       "         1.47778269e+01, 3.62247172e-01, 7.02821435e-01, 2.15490625e+01,\n",
       "         1.08364539e-01, 6.31022188e+01, 7.71862031e+02, 1.05268409e-01,\n",
       "         3.09612967e-03, 4.05592987e-01, 2.38401985e-01],\n",
       "        [2.68841163e-02, 2.33354129e+02, 8.33407605e-01, 1.34420581e-02,\n",
       "         2.89004250e+00, 1.25011141e+00, 1.24876720e+01, 1.34420581e-02,\n",
       "         6.41589435e+01, 1.57272080e+00, 3.05134720e+00, 9.35567247e+01,\n",
       "         4.70472035e-01, 2.73962587e+02, 3.35109165e+03, 4.57029977e-01,\n",
       "         1.34420581e-02, 1.76090962e+00, 1.03503848e+00],\n",
       "        [3.23327724e-01, 2.80648465e+03, 1.00231594e+01, 1.61663862e-01,\n",
       "         3.47577303e+01, 1.50347392e+01, 1.50185728e+02, 1.61663862e-01,\n",
       "         7.71621614e+02, 1.89146719e+01, 3.66976967e+01, 1.12518048e+03,\n",
       "         5.65823517e+00, 3.29487117e+03, 4.03026392e+04, 5.49657131e+00,\n",
       "         1.61663862e-01, 2.11779659e+01, 1.24481174e+01],\n",
       "        [1.13622305e-01, 9.86241611e+02, 3.52229147e+00, 5.68111527e-02,\n",
       "         1.22143978e+01, 5.28343720e+00, 5.27775609e+01, 5.68111527e-02,\n",
       "         2.71159632e+02, 6.64690487e+00, 1.28961317e+01, 3.95405623e+02,\n",
       "         1.98839035e+00, 1.15786810e+03, 1.41629636e+04, 1.93157919e+00,\n",
       "         5.68111527e-02, 7.44226101e+00, 4.37445876e+00],\n",
       "        [2.04191581e-03, 1.77238292e+01, 6.32993901e-02, 1.02095790e-03,\n",
       "         2.19505949e-01, 9.49490851e-02, 9.48469893e-01, 1.02095790e-03,\n",
       "         4.87303208e+00, 1.19452075e-01, 2.31757444e-01, 7.10586702e+00,\n",
       "         3.57335267e-02, 2.08081431e+01, 2.54523785e+02, 3.47125688e-02,\n",
       "         1.02095790e-03, 1.33745486e-01, 7.86137587e-02],\n",
       "        [4.32327451e-03, 3.75260228e+01, 1.34021510e-01, 2.16163726e-03,\n",
       "         4.64752010e-01, 2.01032265e-01, 2.00816101e+00, 2.16163726e-03,\n",
       "         1.03174946e+01, 2.52911559e-01, 4.90691657e-01, 1.50449953e+01,\n",
       "         7.56573040e-02, 4.40563289e+01, 5.38894007e+02, 7.34956667e-02,\n",
       "         2.16163726e-03, 2.83174481e-01, 1.66446069e-01],\n",
       "        [2.66047662e-05, 2.30929371e-01, 8.24747754e-04, 1.33023831e-05,\n",
       "         2.86001237e-03, 1.23712163e-03, 1.23579139e-02, 1.33023831e-05,\n",
       "         6.34922746e-02, 1.55637883e-03, 3.01964097e-03, 9.25845865e-02,\n",
       "         4.65583409e-04, 2.71115870e-01, 3.31627081e+00, 4.52281026e-04,\n",
       "         1.33023831e-05, 1.74261219e-03, 1.02428350e-03],\n",
       "        [2.99170596e-02, 2.59680078e+02, 9.27428849e-01, 1.49585298e-02,\n",
       "         3.21608391e+00, 1.39114327e+00, 1.38964742e+01, 1.49585298e-02,\n",
       "         7.13970628e+01, 1.75014799e+00, 3.39558627e+00, 1.04111368e+02,\n",
       "         5.23548544e-01, 3.04869796e+02, 3.72914653e+03, 5.08590014e-01,\n",
       "         1.49585298e-02, 1.95956741e+00, 1.15180680e+00],\n",
       "        [3.93750540e-03, 3.41775469e+01, 1.22062668e-01, 1.96875270e-03,\n",
       "         4.23281831e-01, 1.83094001e-01, 1.82897126e+00, 1.96875270e-03,\n",
       "         9.39685665e+00, 2.30344066e-01, 4.46906863e-01, 1.37025188e+01,\n",
       "         6.89063446e-02, 4.01251488e+01, 4.90808080e+02, 6.69375919e-02,\n",
       "         1.96875270e-03, 2.57906604e-01, 1.51593958e-01],\n",
       "        [2.52878303e-02, 2.19498367e+02, 7.83922740e-01, 1.26439152e-02,\n",
       "         2.71844176e+00, 1.17588411e+00, 1.17461972e+01, 1.26439152e-02,\n",
       "         6.03494070e+01, 1.47933807e+00, 2.87016874e+00, 8.80016495e+01,\n",
       "         4.42537031e-01, 2.57695635e+02, 3.15211540e+03, 4.29893115e-01,\n",
       "         1.26439152e-02, 1.65635289e+00, 9.73581467e-01]]))"
      ]
     },
     "execution_count": 138,
     "metadata": {},
     "output_type": "execute_result"
    }
   ],
   "source": [
    "val"
   ]
  },
  {
   "cell_type": "code",
   "execution_count": 142,
   "id": "a1f49758",
   "metadata": {},
   "outputs": [
    {
     "data": {
      "text/plain": [
       "True"
      ]
     },
     "execution_count": 142,
     "metadata": {},
     "output_type": "execute_result"
    }
   ],
   "source": [
    "val[1] < 0.05"
   ]
  },
  {
   "cell_type": "code",
   "execution_count": null,
   "id": "3933ae74",
   "metadata": {},
   "outputs": [],
   "source": []
  },
  {
   "cell_type": "code",
   "execution_count": null,
   "id": "e32c6dcd",
   "metadata": {},
   "outputs": [],
   "source": []
  }
 ],
 "metadata": {
  "kernelspec": {
   "display_name": "Python 3",
   "language": "python",
   "name": "python3"
  },
  "language_info": {
   "codemirror_mode": {
    "name": "ipython",
    "version": 3
   },
   "file_extension": ".py",
   "mimetype": "text/x-python",
   "name": "python",
   "nbconvert_exporter": "python",
   "pygments_lexer": "ipython3",
   "version": "3.8.8"
  }
 },
 "nbformat": 4,
 "nbformat_minor": 5
}
